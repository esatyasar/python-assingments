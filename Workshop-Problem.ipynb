{
 "cells": [
  {
   "cell_type": "markdown",
   "metadata": {},
   "source": [
    "# Problem Statement\n",
    "Given an array of numbers representing the stock prices of a company in chronological order, write a function that calculates the maximum profit you could have made from buying and selling that stock once. Note that you must buy before you can sell it.\n",
    "\n",
    "For example, given [9, 11, 8, 5, 7, 10], you should return 5, since you could buy the stock at 5 dollars and sell it at 10 dollars.\n",
    "\n",
    "Example of different list of stock prices and respective outputs.\n",
    "\n",
    "List = [75,73,60,100,120,130]\n",
    "Output = 70\n",
    "\n",
    "List = [10,20,23,22,17,30]\n",
    "Output = 20\n",
    "\n",
    "List = [1,6,19,59,30,60]\n",
    "Output = 59"
   ]
  },
  {
   "cell_type": "code",
   "execution_count": 7,
   "metadata": {},
   "outputs": [
    {
     "name": "stdout",
     "output_type": "stream",
     "text": [
      "output : 70\n"
     ]
    }
   ],
   "source": [
    "def max_profit():\n",
    "    \n",
    "    prices = [75,73,60,100,120,130]\n",
    "    profit = []\n",
    "    for i in prices:\n",
    "        for j in prices:\n",
    "            profit.append(j-i)\n",
    "        j+=1\n",
    "    output = max(profit)\n",
    "    print(\"output : {}\".format(output))\n",
    "max_profit()\n",
    "            "
   ]
  }
 ],
 "metadata": {
  "kernelspec": {
   "display_name": "Python 3",
   "language": "python",
   "name": "python3"
  },
  "language_info": {
   "codemirror_mode": {
    "name": "ipython",
    "version": 3
   },
   "file_extension": ".py",
   "mimetype": "text/x-python",
   "name": "python",
   "nbconvert_exporter": "python",
   "pygments_lexer": "ipython3",
   "version": "3.8.5"
  }
 },
 "nbformat": 4,
 "nbformat_minor": 4
}
