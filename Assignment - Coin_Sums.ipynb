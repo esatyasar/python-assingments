{
 "cells": [
  {
   "cell_type": "markdown",
   "metadata": {},
   "source": [
    "# Problem \n",
    "In the United Kingdom the currency is made up of pound (£) and pence (p). There are eight coins in general circulation:  1p, 2p, 5p, 10p, 20p, 50p, £1 (100p), and £2 (200p). It is possible to make £2 in the following way:  1×£1   1×50p   2×20p   1×5p   1×2p   3×1p How many different ways can £2 be made using any number of coins?"
   ]
  },
  {
   "cell_type": "code",
   "execution_count": 4,
   "metadata": {},
   "outputs": [
    {
     "name": "stdout",
     "output_type": "stream",
     "text": [
      "Ways to make change = 73682\n"
     ]
    }
   ],
   "source": [
    "def coin_sum(target):\n",
    "    coins = [1, 2, 5, 10, 20, 50, 100, 200]\n",
    "    ways = [1] + [0]*target\n",
    "\n",
    "    for coin in coins:\n",
    "        for i in range(coin, target+1):\n",
    "            ways[i] += ways[i-coin]\n",
    "\n",
    "    print(\"Ways to make change =\", ways[target])\n",
    "coin_sum(200)"
   ]
  }
 ],
 "metadata": {
  "kernelspec": {
   "display_name": "Python 3",
   "language": "python",
   "name": "python3"
  },
  "language_info": {
   "codemirror_mode": {
    "name": "ipython",
    "version": 3
   },
   "file_extension": ".py",
   "mimetype": "text/x-python",
   "name": "python",
   "nbconvert_exporter": "python",
   "pygments_lexer": "ipython3",
   "version": "3.8.5"
  }
 },
 "nbformat": 4,
 "nbformat_minor": 4
}
