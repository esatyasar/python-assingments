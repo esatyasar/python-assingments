{
 "cells": [
  {
   "cell_type": "markdown",
   "metadata": {},
   "source": [
    "# Problem"
   ]
  },
  {
   "cell_type": "markdown",
   "metadata": {},
   "source": [
    "Find out if a given number is an \"Armstrong Number\".\n",
    "\n",
    "An n-digit number that is the sum of the nth powers of its digits is called an n-Armstrong number. Examples :\n",
    "371 = 33 + 73 + 13;\n",
    "9474 = 94 + 44 + 74 + 44;\n",
    "93084 = 95 + 35 + 05 + 85 + 45.\n",
    "\n",
    "Write a Python program that;\n",
    "takes a positive integer number from the user,\n",
    "checks the entered number if it is Armstrong,\n",
    "consider the negative, float and any entries other than numeric values then display a warning message to the user.\n",
    "\n",
    "Examples\n",
    "\n",
    "Sample inputs\tOutputs\n",
    "\n",
    "407\t407 is an Armstrong number\n",
    "\n",
    "5\t5 is an Armstrong number\n",
    "\n",
    "-153\t It is an invalid entry. Don't use non-numeric, float, or negative values!\n",
    "\n",
    "153.87 or 153,87\t It is an invalid entry. Don't use non-numeric, float, or negative values!\n",
    "\n",
    "one\t It is an invalid entry. Don't use non-numeric, float, or negative values!\n",
    "\n",
    "121\t 121 is not an Armstrong number"
   ]
  },
  {
   "cell_type": "code",
   "execution_count": 1,
   "metadata": {},
   "outputs": [
    {
     "name": "stdout",
     "output_type": "stream",
     "text": [
      "bir sayi giriniz : 407\n",
      "407 is an Armstrong number\n"
     ]
    }
   ],
   "source": [
    "while True:\n",
    "    \n",
    "    number = input(\"Please, enter a number : \")\n",
    "    try :\n",
    "        if int(number)<0:\n",
    "            print(\"It is an invalid entry. Don't use negative number!\")\n",
    "            break \n",
    "        number = int(number)    \n",
    "    except:\n",
    "        print(\"It is an invalid entry. Don't use non-numeric and float!\")\n",
    "        break\n",
    "        \n",
    "    str_number = str(number)\n",
    "    list_number =list(str_number)\n",
    "    armstrong_number = []\n",
    "    i = 0\n",
    "    while i < len(list_number):\n",
    "        armstrong_number.append(int(list_number[i])**len(list_number))\n",
    "        i+=1\n",
    "    if number == sum(armstrong_number):\n",
    "        print(\"{} is an Armstrong number\".format(number))\n",
    "        break\n",
    "    else:\n",
    "        print(\"{} is not an Armstrong number\".format(number))\n",
    "        break\n",
    "        \n",
    "    "
   ]
  },
  {
   "cell_type": "code",
   "execution_count": null,
   "metadata": {},
   "outputs": [],
   "source": []
  }
 ],
 "metadata": {
  "kernelspec": {
   "display_name": "Python 3",
   "language": "python",
   "name": "python3"
  },
  "language_info": {
   "codemirror_mode": {
    "name": "ipython",
    "version": 3
   },
   "file_extension": ".py",
   "mimetype": "text/x-python",
   "name": "python",
   "nbconvert_exporter": "python",
   "pygments_lexer": "ipython3",
   "version": "3.8.5"
  }
 },
 "nbformat": 4,
 "nbformat_minor": 4
}
