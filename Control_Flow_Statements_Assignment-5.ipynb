{
 "cells": [
  {
   "cell_type": "markdown",
   "metadata": {},
   "source": [
    "# Problem\n",
    "Create a list consisting of Fibonacci numbers from 1 to 55 using control flow statements."
   ]
  },
  {
   "cell_type": "code",
   "execution_count": 17,
   "metadata": {},
   "outputs": [
    {
     "name": "stdout",
     "output_type": "stream",
     "text": [
      "[0, 1, 1, 2, 3, 5, 8, 13, 21, 34, 55]\n"
     ]
    }
   ],
   "source": [
    "def fib(n):\n",
    "    \n",
    "    number_1 = 0\n",
    "    number_2 = 1\n",
    "    fib_num = [0,1]\n",
    "    \n",
    "    for i in range(n-2): \n",
    "        number_3 = number_1 + number_2\n",
    "        fib_num.append(number_3)\n",
    "        number_1 = number_2\n",
    "        number_2 = number_3\n",
    "\n",
    "    print(fib_num)\n",
    "\n",
    "fib(11)"
   ]
  },
  {
   "cell_type": "markdown",
   "metadata": {},
   "source": []
  }
 ],
 "metadata": {
  "kernelspec": {
   "display_name": "Python 3",
   "language": "python",
   "name": "python3"
  },
  "language_info": {
   "codemirror_mode": {
    "name": "ipython",
    "version": 3
   },
   "file_extension": ".py",
   "mimetype": "text/x-python",
   "name": "python",
   "nbconvert_exporter": "python",
   "pygments_lexer": "ipython3",
   "version": "3.8.5"
  }
 },
 "nbformat": 4,
 "nbformat_minor": 4
}
