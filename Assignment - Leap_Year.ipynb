{
 "cells": [
  {
   "cell_type": "markdown",
   "metadata": {},
   "source": [
    "# Problem\n",
    "\n",
    "Find out if a given year is a \"leap\" year.\n",
    "\n",
    "In the Gregorian calendar, three criteria must be taken into account to identify leap years:\n",
    "    \n",
    "The year must be evenly divisible by 4;\n",
    "\n",
    "If the year can also be evenly divided by 100, it is not a leap year; unless...\n",
    "\n",
    "The year is also evenly divisible by 400. Then it is a leap year.\n",
    "\n",
    "According to these rules, the years 2000 and 2400 are leap years, while 1800, 1900, 2100, 2200, 2300, and 2500 are not the leap years.\n",
    "\n",
    "Write a Python program that prints such as \"2020 is a leap year\" if the given year by the user is a leap year, prints such as \"2019 is not a leap year\" otherwise."
   ]
  },
  {
   "cell_type": "code",
   "execution_count": 2,
   "metadata": {},
   "outputs": [
    {
     "name": "stdout",
     "output_type": "stream",
     "text": [
      "Enter a 4 digit year : 2020\n",
      "2020 is a leap year\n"
     ]
    }
   ],
   "source": [
    "def leap_year():\n",
    "    year = input(\"Enter a 4 digit year : \")\n",
    "    year_last_two_digit = year[2:]\n",
    "\n",
    "    if year_last_two_digit == \"00\":\n",
    "        if int(year)%400 == 0:\n",
    "            print(\"{} is a leap year\".format(year))\n",
    "        else :\n",
    "            print(\"{} is not a leap year\".format(year))\n",
    "    elif int(year)%4 == 0 :\n",
    "        print(\"{} is a leap year\".format(year))\n",
    "    else :\n",
    "        print(\"{} is not a leap year\".format(year))\n",
    "leap_year()"
   ]
  }
 ],
 "metadata": {
  "kernelspec": {
   "display_name": "Python 3",
   "language": "python",
   "name": "python3"
  },
  "language_info": {
   "codemirror_mode": {
    "name": "ipython",
    "version": 3
   },
   "file_extension": ".py",
   "mimetype": "text/x-python",
   "name": "python",
   "nbconvert_exporter": "python",
   "pygments_lexer": "ipython3",
   "version": "3.8.5"
  }
 },
 "nbformat": 4,
 "nbformat_minor": 4
}
