{
 "cells": [
  {
   "cell_type": "markdown",
   "metadata": {},
   "source": [
    "# PROBLEM"
   ]
  },
  {
   "cell_type": "markdown",
   "metadata": {},
   "source": [
    "Task : Estimating the risk of death from coronavirus. Write a program that;\n",
    "\n",
    "Takes \"Yes\" or \"No\" from the user as an answer to the following questions :\n",
    "\n",
    "Are you a cigarette addict older than 75 years old? Variable → age\n",
    "\n",
    "Do you have a severe chronic disease? Variable → chronic\n",
    "\n",
    "Is your immune system too weak? Variable → immune\n",
    "\n",
    "Set a logical algorithm using boolean logic operators (and/or) and use if-statements with the given variables in order to print out us a message : \"You are in risky group\"(if True ) or \"You are not in risky group\" (if False)."
   ]
  },
  {
   "cell_type": "code",
   "execution_count": 10,
   "metadata": {},
   "outputs": [
    {
     "name": "stdout",
     "output_type": "stream",
     "text": [
      "Are you a cigarette addict older than 75 years old? Yes or No : yes\n",
      "Do you have a severe chronic disease? Yes or No : no\n",
      "Do you have a severe chronic disease? Yes or No : no\n",
      "You are in risky group !!\n"
     ]
    }
   ],
   "source": [
    "while True:\n",
    "    age = input(\"Are you a cigarette addict older than 75 years old? Yes or No : \").title().strip()\n",
    "    chronic = input(\"Do you have a severe chronic disease? Yes or No : \").title().strip()\n",
    "    immune = input(\"Do you have a severe chronic disease? Yes or No : \").title().strip()\n",
    "    \n",
    "    if age == \"Yes\":\n",
    "        age = True\n",
    "    elif age == \"No\":\n",
    "        age = False\n",
    "    else:\n",
    "        print(\"You entered the wrong value, Please try again\")\n",
    "        break\n",
    "    \n",
    "    if chronic == \"Yes\":\n",
    "        chronic = True\n",
    "    elif chronic == \"No\":\n",
    "        chronic = False\n",
    "    else:\n",
    "        print(\"You entered the wrong value, Please try again\")\n",
    "        break\n",
    "    \n",
    "    if immune == \"Yes\":\n",
    "        immune = True\n",
    "    elif immune == \"No\":\n",
    "        immune = False\n",
    "    else:\n",
    "        print(\"You entered the wrong value, Please try again\")\n",
    "        break\n",
    "    \n",
    "    risk = age or chronic or immune    \n",
    "    if risk == True:\n",
    "        print(\"You are in risky group !!\")\n",
    "    else:\n",
    "        print(\"You are not in risky group\")\n",
    "    break\n",
    "\n",
    "\n"
   ]
  }
 ],
 "metadata": {
  "kernelspec": {
   "display_name": "Python 3",
   "language": "python",
   "name": "python3"
  },
  "language_info": {
   "codemirror_mode": {
    "name": "ipython",
    "version": 3
   },
   "file_extension": ".py",
   "mimetype": "text/x-python",
   "name": "python",
   "nbconvert_exporter": "python",
   "pygments_lexer": "ipython3",
   "version": "3.8.5"
  }
 },
 "nbformat": 4,
 "nbformat_minor": 4
}
