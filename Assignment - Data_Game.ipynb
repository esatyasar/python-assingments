{
 "cells": [
  {
   "cell_type": "code",
   "execution_count": null,
   "metadata": {},
   "outputs": [],
   "source": [
    "import random\n",
    "from game_data import data\n",
    "from art import logo, vs\n",
    "compare_A =random.choice(data)\n",
    "print(logo)\n",
    "compare_B = random.choice(data)\n",
    "\n",
    "current_score = 0\n",
    "game_should_continue = True\n",
    "while game_should_continue :\n",
    "  \n",
    "  print(f\"{compare_A['name']},{compare_A['description']}, from {compare_A['country']}\")\n",
    " \n",
    "  print(f\"{compare_B['name']},{compare_B['description']}, from {compare_B['country']}\")\n",
    "\n",
    "  question = input(\"Who has more follwers? A or B \")\n",
    "\n",
    "  if question == 'A' :\n",
    "    if compare_A['follower_count'] > compare_B['follower_count'] :\n",
    "      current_score += 1\n",
    "      compare_B = random.choice(data)\n",
    "      print(f\"You are right.Current score {current_score}\")\n",
    "    else:\n",
    "      print(f\"Sorry,that's wrong.Final score {current_score}\")\n",
    "      break\n",
    "  else:\n",
    "    if compare_B['follower_count'] > compare_A['follower_count'] :\n",
    "      current_score += 1\n",
    "      compare_A = compare_B\n",
    "      compare_B = random.choice(data)\n",
    "      print(f\"You are right.Current score {current_score}\")\n",
    "    else:\n",
    "      print(f\"Sorry,that's wrong.Final score {current_score}\")\n",
    "      break"
   ]
  }
 ],
 "metadata": {
  "kernelspec": {
   "display_name": "Python 3",
   "language": "python",
   "name": "python3"
  },
  "language_info": {
   "codemirror_mode": {
    "name": "ipython",
    "version": 3
   },
   "file_extension": ".py",
   "mimetype": "text/x-python",
   "name": "python",
   "nbconvert_exporter": "python",
   "pygments_lexer": "ipython3",
   "version": "3.8.5"
  }
 },
 "nbformat": 4,
 "nbformat_minor": 4
}
