{
 "cells": [
  {
   "cell_type": "code",
   "execution_count": null,
   "metadata": {},
   "outputs": [],
   "source": [
    "Task : Write a program that takes a number from the user and prints the result to check if it is a prime number.\n",
    "\n",
    "The examples of the desired output are as follows :\n",
    "\n",
    "input →  19 ⇉ output : 19 is a prime number\n",
    "input →  10 ⇉ output : 10 is not a prime number"
   ]
  },
  {
   "cell_type": "code",
   "execution_count": 1,
   "metadata": {},
   "outputs": [
    {
     "name": "stdout",
     "output_type": "stream",
     "text": [
      "Please, enter a number : 409\n",
      "409 is a prime number\n"
     ]
    }
   ],
   "source": [
    "def prime_number():\n",
    "    try:\n",
    "        number = int(input(\"Please, enter a number : \"))\n",
    "        if number > 1 :\n",
    "            for i in range(2,number):\n",
    "                if (number%i) == 0:\n",
    "                    print(\"{} is not a prime number\".format(number))\n",
    "                    break\n",
    "            else:\n",
    "                print(\"{} is a prime number\".format(number))\n",
    "        else:\n",
    "            print(\"{} is not a prime number\".format(number))\n",
    "    except:\n",
    "        print(\"You entered incorrectly, please try again.\")\n",
    "        prime_number()\n",
    "\n",
    "prime_number()"
   ]
  }
 ],
 "metadata": {
  "kernelspec": {
   "display_name": "Python 3",
   "language": "python",
   "name": "python3"
  },
  "language_info": {
   "codemirror_mode": {
    "name": "ipython",
    "version": 3
   },
   "file_extension": ".py",
   "mimetype": "text/x-python",
   "name": "python",
   "nbconvert_exporter": "python",
   "pygments_lexer": "ipython3",
   "version": "3.8.5"
  }
 },
 "nbformat": 4,
 "nbformat_minor": 4
}
