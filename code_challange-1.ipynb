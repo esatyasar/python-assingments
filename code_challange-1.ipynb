{
 "cells": [
  {
   "cell_type": "markdown",
   "metadata": {},
   "source": [
    "# Problem\n",
    "\n",
    "Define a function to take a word and return negative meaning.\n",
    "\n",
    "Given a word, return a new word where \"not \" has been added to the front. However, if the word already begins with \"not\", return the string unchanged. \n",
    "\n",
    "For example:\n",
    "\n",
    "Test\tResult\n",
    "\n",
    "print(not_string('sugar'))\n",
    "\n",
    "not sugar\n",
    "\n",
    "print(not_string('x'))\n",
    "\n",
    "not x\n",
    "\n",
    "print(not_string('not bad'))\n"
   ]
  },
  {
   "cell_type": "code",
   "execution_count": 2,
   "metadata": {},
   "outputs": [
    {
     "name": "stdout",
     "output_type": "stream",
     "text": [
      "not sugar\n",
      "not x\n",
      "not bad\n"
     ]
    }
   ],
   "source": [
    "def not_string(word):\n",
    "    \n",
    "        if word.startswith(\"not\"):\n",
    "            return word\n",
    "        else:\n",
    "            negative = \"not\"\n",
    "            word = negative +\" \" +word\n",
    "            return word\n",
    "\n",
    "print(not_string(\"sugar\"))            \n",
    "print(not_string(\"x\"))\n",
    "print(not_string(\"not bad\"))"
   ]
  },
  {
   "cell_type": "markdown",
   "metadata": {},
   "source": [
    "Given a non-empty string and an int n, return a new string where the character at index n has been removed. The value of n will be a valid index of a character in the original string (i.e. n will be in the range 0....len(str)-1 inclusive).\n",
    "For example:\n",
    "\n",
    "Test\tResult\n",
    "\n",
    "print(missing_char('kitchen', 1))\n",
    "\n",
    "ktchen\n",
    "\n",
    "print(missing_char('kitchen', 0))\n",
    "\n",
    "itchen\n",
    "\n",
    "print(missing_char('kitchen', 4))\n",
    "\n",
    "kitcen"
   ]
  },
  {
   "cell_type": "code",
   "execution_count": 1,
   "metadata": {},
   "outputs": [
    {
     "name": "stdout",
     "output_type": "stream",
     "text": [
      "ktchen\n",
      "itchen\n",
      "kitcen\n"
     ]
    }
   ],
   "source": [
    "def missing_char(word,n):\n",
    "    letter = word[n]\n",
    "    word = word.replace(letter,\"\")\n",
    "    return word\n",
    "    \n",
    "print(missing_char(\"kitchen\",1))\n",
    "print(missing_char(\"kitchen\",0))    \n",
    "print(missing_char(\"kitchen\",4))    \n"
   ]
  },
  {
   "cell_type": "code",
   "execution_count": null,
   "metadata": {},
   "outputs": [],
   "source": []
  }
 ],
 "metadata": {
  "kernelspec": {
   "display_name": "Python 3",
   "language": "python",
   "name": "python3"
  },
  "language_info": {
   "codemirror_mode": {
    "name": "ipython",
    "version": 3
   },
   "file_extension": ".py",
   "mimetype": "text/x-python",
   "name": "python",
   "nbconvert_exporter": "python",
   "pygments_lexer": "ipython3",
   "version": "3.8.5"
  }
 },
 "nbformat": 4,
 "nbformat_minor": 4
}
